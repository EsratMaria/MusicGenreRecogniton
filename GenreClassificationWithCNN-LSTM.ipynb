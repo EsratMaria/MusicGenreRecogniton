{
 "cells": [
  {
   "cell_type": "code",
   "execution_count": 250,
   "metadata": {},
   "outputs": [
    {
     "data": {
      "text/plain": [
       "(128, 173)"
      ]
     },
     "execution_count": 250,
     "metadata": {},
     "output_type": "execute_result"
    }
   ],
   "source": [
    "#importing libraries\n",
    "\n",
    "import warnings\n",
    "warnings.filterwarnings('ignore')\n",
    "import pandas as pd\n",
    "import numpy as np\n",
    "import librosa\n",
    "import matplotlib.pyplot as plt\n",
    "\n",
    "import os\n",
    "from PIL import Image\n",
    "from pathlib import Path\n",
    "import csv\n",
    "\n",
    "from sklearn.model_selection import train_test_split\n",
    "from sklearn.preprocessing import LabelEncoder, StandardScaler\n",
    "\n",
    "from sklearn.linear_model import LinearRegression\n",
    "from sklearn.svm import SVC\n",
    "from sklearn.ensemble import RandomForestClassifier\n",
    "\n",
    "import tensorflow as tf\n",
    "import keras\n",
    "import librosa.display\n",
    "\n",
    "songname = f'/home/em/Desktop/genres/blues/blues.00000.wav'\n",
    "y, sr = librosa.load(songname, mono=True, duration=2, offset=0)\n",
    "ps = librosa.feature.melspectrogram(y=y, sr=sr, hop_length = 256, n_fft = 512, n_mels=128)\n",
    "ps = librosa.power_to_db(ps**2)\n",
    "ps.shape\n",
    "\n"
   ]
  },
  {
   "cell_type": "code",
   "execution_count": 251,
   "metadata": {},
   "outputs": [],
   "source": [
    "\n",
    "\n",
    "dataset = []\n",
    "genres = {'blues': 0, 'classical': 1, 'country': 2, 'disco': 3, 'hiphop': 4, \n",
    "        'jazz': 5, 'metal': 6, 'pop': 7, 'reggae': 8, 'rock': 9}\n",
    "\n",
    "for genre, genre_number in genres.items():\n",
    "    for filename in os.listdir(f'/home/em/Desktop/genres/{genre}'):\n",
    "        songname = f'/home/em/Desktop/genres/{genre}/{filename}'\n",
    "        for index in range(14):\n",
    "            y, sr = librosa.load(songname, mono=True, duration=2, offset=index*2)\n",
    "            ps = librosa.feature.melspectrogram(y=y, sr=sr, hop_length = 256, n_fft = 512, n_mels=64)\n",
    "            ps = librosa.power_to_db(ps**2)\n",
    "            dataset.append( (ps, genre_number) )\n",
    "\n"
   ]
  },
  {
   "cell_type": "code",
   "execution_count": 252,
   "metadata": {},
   "outputs": [
    {
     "name": "stdout",
     "output_type": "stream",
     "text": [
      "14000\n"
     ]
    }
   ],
   "source": [
    "print(len(dataset))"
   ]
  },
  {
   "cell_type": "code",
   "execution_count": 253,
   "metadata": {},
   "outputs": [],
   "source": [
    "import random\n",
    "\n",
    "random.shuffle(dataset)\n",
    "\n",
    "train = dataset[:10000]\n",
    "valid = dataset[10000:12000]\n",
    "test = dataset[12000:]\n",
    "\n",
    "X_train, Y_train = zip(*train)\n",
    "X_valid, Y_valid = zip(*valid)\n",
    "X_test, Y_test = zip(*test)\n",
    "\n",
    "# Reshape for CNN input\n",
    "X_train = np.array([x.reshape( (64, 173, 1) ) for x in X_train])\n",
    "X_valid = np.array([x.reshape( (64, 173, 1) ) for x in X_valid])\n",
    "X_test = np.array([x.reshape( (64, 173, 1) ) for x in X_test])\n",
    "\n",
    "# One-Hot encoding for classes\n",
    "Y_train = np.array(keras.utils.to_categorical(Y_train, 10))\n",
    "Y_valid = np.array(keras.utils.to_categorical(Y_valid, 10))\n",
    "Y_test = np.array(keras.utils.to_categorical(Y_test, 10))"
   ]
  },
  {
   "cell_type": "code",
   "execution_count": 254,
   "metadata": {},
   "outputs": [
    {
     "name": "stdout",
     "output_type": "stream",
     "text": [
      "(None, 64)\n",
      "Tensor(\"input_20:0\", shape=(None, None, 64), dtype=float32)\n"
     ]
    },
    {
     "data": {
      "text/plain": [
       "(10000, 64, 173, 1)"
      ]
     },
     "execution_count": 254,
     "metadata": {},
     "output_type": "execute_result"
    }
   ],
   "source": [
    "len(X_train)\n",
    "X_train.shape\n",
    "n_features = X_train.shape[2]\n",
    "input_shape = (None, X_train.shape[1])\n",
    "print(input_shape)\n",
    "model_input = Input(input_shape, name='input')\n",
    "print(model_input)\n",
    "X_train.shape"
   ]
  },
  {
   "cell_type": "code",
   "execution_count": 397,
   "metadata": {},
   "outputs": [
    {
     "name": "stdout",
     "output_type": "stream",
     "text": [
      "Model: \"sequential_115\"\n",
      "_________________________________________________________________\n",
      "Layer (type)                 Output Shape              Param #   \n",
      "=================================================================\n",
      "conv2d_223 (Conv2D)          (None, 60, 169, 20)       520       \n",
      "_________________________________________________________________\n",
      "max_pooling2d_109 (MaxPoolin (None, 30, 84, 20)        0         \n",
      "_________________________________________________________________\n",
      "conv2d_224 (Conv2D)          (None, 26, 80, 50)        25050     \n",
      "_________________________________________________________________\n",
      "max_pooling2d_110 (MaxPoolin (None, 13, 40, 50)        0         \n",
      "_________________________________________________________________\n",
      "flatten_103 (Flatten)        (None, 26000)             0         \n",
      "_________________________________________________________________\n",
      "dense_127 (Dense)            (None, 20)                520020    \n",
      "_________________________________________________________________\n",
      "lambda_50 (Lambda)           (None, 20, 1)             0         \n",
      "_________________________________________________________________\n",
      "lstm_101 (LSTM)              (None, 512)               1052672   \n",
      "_________________________________________________________________\n",
      "dense_128 (Dense)            (None, 10)                5130      \n",
      "=================================================================\n",
      "Total params: 1,603,392\n",
      "Trainable params: 1,603,392\n",
      "Non-trainable params: 0\n",
      "_________________________________________________________________\n"
     ]
    }
   ],
   "source": [
    "import keras\n",
    "# Classification with Keras\n",
    "# Building our Network\n",
    "from keras import models\n",
    "from keras import layers\n",
    "from keras import Input, backend, Model\n",
    "from keras.layers.recurrent import LSTM\n",
    "from keras.models import Sequential\n",
    "from keras.layers import Dense, Lambda\n",
    "from keras.layers import Activation\n",
    "from keras.layers import Conv2D\n",
    "from keras.layers import MaxPooling2D\n",
    "from keras.layers import Dropout\n",
    "from keras.layers import Flatten, GRU\n",
    "from keras.layers import BatchNormalization\n",
    "from keras.layers import AveragePooling2D\n",
    "from keras.layers.wrappers import TimeDistributed\n",
    "\n",
    "from keras import regularizers\n",
    "model = Sequential()\n",
    "\n",
    "model.add(Conv2D(20, (5, 5), input_shape=(64, 173, 1),\n",
    "                 activation=\"relu\", strides=1, padding=\"valid\"))\n",
    "model.add(MaxPooling2D(pool_size=(2, 2)))\n",
    "model.add(Conv2D(50, (5, 5), use_bias=50))\n",
    "model.add(MaxPooling2D(pool_size=(2, 2)))\n",
    "model.add(Flatten())\n",
    "model.add(Dense(20, activation=\"relu\"))\n",
    "model.add(Lambda(lambda x: backend.expand_dims(model.output, axis=-1)))\n",
    "model.add(LSTM(512, activation=\"relu\", return_sequences=False))\n",
    "model.add(Dense(10, activation = \"softmax\"))\n",
    "model.summary()"
   ]
  },
  {
   "cell_type": "code",
   "execution_count": 398,
   "metadata": {},
   "outputs": [],
   "source": [
    "from keras.optimizers import Adam\n",
    "model.compile(optimizer=Adam(lr = 1e-5), loss=\"categorical_crossentropy\", metrics=['accuracy'])"
   ]
  },
  {
   "cell_type": "code",
   "execution_count": 399,
   "metadata": {
    "scrolled": false
   },
   "outputs": [
    {
     "name": "stdout",
     "output_type": "stream",
     "text": [
      "Train on 10000 samples, validate on 2000 samples\n",
      "Epoch 1/90\n",
      "10000/10000 [==============================] - 46s 5ms/step - loss: 2.2403 - accuracy: 0.1080 - val_loss: 2.1817 - val_accuracy: 0.1315\n",
      "Epoch 2/90\n",
      "10000/10000 [==============================] - 46s 5ms/step - loss: 2.0943 - accuracy: 0.1981 - val_loss: 2.0646 - val_accuracy: 0.2305\n",
      "Epoch 3/90\n",
      "10000/10000 [==============================] - 45s 5ms/step - loss: 1.9526 - accuracy: 0.2472 - val_loss: 1.9402 - val_accuracy: 0.2515\n",
      "Epoch 4/90\n",
      "10000/10000 [==============================] - 46s 5ms/step - loss: 1.8753 - accuracy: 0.2787 - val_loss: 1.8896 - val_accuracy: 0.2725\n",
      "Epoch 5/90\n",
      "10000/10000 [==============================] - 45s 5ms/step - loss: 1.8193 - accuracy: 0.3133 - val_loss: 1.8262 - val_accuracy: 0.3155\n",
      "Epoch 6/90\n",
      "10000/10000 [==============================] - 45s 5ms/step - loss: 1.7591 - accuracy: 0.3465 - val_loss: 1.7942 - val_accuracy: 0.3305\n",
      "Epoch 7/90\n",
      "10000/10000 [==============================] - 45s 5ms/step - loss: 1.7118 - accuracy: 0.3720 - val_loss: 1.7746 - val_accuracy: 0.3465\n",
      "Epoch 8/90\n",
      "10000/10000 [==============================] - 45s 5ms/step - loss: 1.6693 - accuracy: 0.3919 - val_loss: 1.7194 - val_accuracy: 0.3740\n",
      "Epoch 9/90\n",
      "10000/10000 [==============================] - 45s 5ms/step - loss: 1.6224 - accuracy: 0.4091 - val_loss: 1.6954 - val_accuracy: 0.3760\n",
      "Epoch 10/90\n",
      "10000/10000 [==============================] - 45s 5ms/step - loss: 1.5755 - accuracy: 0.4280 - val_loss: 1.6434 - val_accuracy: 0.4100\n",
      "Epoch 11/90\n",
      "10000/10000 [==============================] - 45s 5ms/step - loss: 1.5390 - accuracy: 0.4429 - val_loss: 1.6120 - val_accuracy: 0.4170\n",
      "Epoch 12/90\n",
      "10000/10000 [==============================] - 46s 5ms/step - loss: 1.5057 - accuracy: 0.4547 - val_loss: 1.5818 - val_accuracy: 0.4265\n",
      "Epoch 13/90\n",
      "10000/10000 [==============================] - 45s 5ms/step - loss: 1.4863 - accuracy: 0.4654 - val_loss: 1.5784 - val_accuracy: 0.4350\n",
      "Epoch 14/90\n",
      "10000/10000 [==============================] - 45s 5ms/step - loss: 1.4596 - accuracy: 0.4739 - val_loss: 1.5785 - val_accuracy: 0.4350\n",
      "Epoch 15/90\n",
      "10000/10000 [==============================] - 45s 5ms/step - loss: 1.4347 - accuracy: 0.4879 - val_loss: 1.5280 - val_accuracy: 0.4390\n",
      "Epoch 16/90\n",
      "10000/10000 [==============================] - 45s 5ms/step - loss: 1.4234 - accuracy: 0.4880 - val_loss: 1.5103 - val_accuracy: 0.4480\n",
      "Epoch 17/90\n",
      "10000/10000 [==============================] - 45s 5ms/step - loss: 1.3995 - accuracy: 0.5009 - val_loss: 1.5400 - val_accuracy: 0.4395\n",
      "Epoch 18/90\n",
      "10000/10000 [==============================] - 45s 5ms/step - loss: 1.3880 - accuracy: 0.4994 - val_loss: 1.4883 - val_accuracy: 0.4530\n",
      "Epoch 19/90\n",
      "10000/10000 [==============================] - 46s 5ms/step - loss: 1.3740 - accuracy: 0.5106 - val_loss: 1.4728 - val_accuracy: 0.4760\n",
      "Epoch 20/90\n",
      "10000/10000 [==============================] - 46s 5ms/step - loss: 1.3539 - accuracy: 0.5131 - val_loss: 1.4581 - val_accuracy: 0.4680\n",
      "Epoch 21/90\n",
      "10000/10000 [==============================] - 46s 5ms/step - loss: 1.3416 - accuracy: 0.5217 - val_loss: 1.4629 - val_accuracy: 0.4700\n",
      "Epoch 22/90\n",
      "10000/10000 [==============================] - 46s 5ms/step - loss: 1.3282 - accuracy: 0.5188 - val_loss: 1.4451 - val_accuracy: 0.4780\n",
      "Epoch 23/90\n",
      "10000/10000 [==============================] - 46s 5ms/step - loss: 1.3222 - accuracy: 0.5266 - val_loss: 1.4341 - val_accuracy: 0.4875\n",
      "Epoch 24/90\n",
      "10000/10000 [==============================] - 46s 5ms/step - loss: 1.3137 - accuracy: 0.5276 - val_loss: 1.4570 - val_accuracy: 0.4735\n",
      "Epoch 25/90\n",
      "10000/10000 [==============================] - 46s 5ms/step - loss: 1.2874 - accuracy: 0.5405 - val_loss: 1.4524 - val_accuracy: 0.4830\n",
      "Epoch 26/90\n",
      "10000/10000 [==============================] - 46s 5ms/step - loss: 1.2925 - accuracy: 0.5383 - val_loss: 1.4030 - val_accuracy: 0.5035\n",
      "Epoch 27/90\n",
      "10000/10000 [==============================] - 46s 5ms/step - loss: 1.2648 - accuracy: 0.5482 - val_loss: 1.4644 - val_accuracy: 0.4710\n",
      "Epoch 28/90\n",
      "10000/10000 [==============================] - 46s 5ms/step - loss: 1.2533 - accuracy: 0.5586 - val_loss: 1.4010 - val_accuracy: 0.5090\n",
      "Epoch 29/90\n",
      "10000/10000 [==============================] - 46s 5ms/step - loss: 1.2433 - accuracy: 0.5616 - val_loss: 1.3865 - val_accuracy: 0.5120\n",
      "Epoch 30/90\n",
      "10000/10000 [==============================] - 46s 5ms/step - loss: 1.2203 - accuracy: 0.5707 - val_loss: 1.3514 - val_accuracy: 0.5210\n",
      "Epoch 31/90\n",
      "10000/10000 [==============================] - 46s 5ms/step - loss: 1.2156 - accuracy: 0.5672 - val_loss: 1.3460 - val_accuracy: 0.5290\n",
      "Epoch 32/90\n",
      "10000/10000 [==============================] - 46s 5ms/step - loss: 1.1996 - accuracy: 0.5766 - val_loss: 1.3652 - val_accuracy: 0.5170\n",
      "Epoch 33/90\n",
      "10000/10000 [==============================] - 46s 5ms/step - loss: 1.1905 - accuracy: 0.5808 - val_loss: 1.3639 - val_accuracy: 0.5210\n",
      "Epoch 34/90\n",
      "10000/10000 [==============================] - 46s 5ms/step - loss: 1.1768 - accuracy: 0.5842 - val_loss: 1.3409 - val_accuracy: 0.5405\n",
      "Epoch 35/90\n",
      "10000/10000 [==============================] - 46s 5ms/step - loss: 1.1583 - accuracy: 0.5917 - val_loss: 1.3113 - val_accuracy: 0.5530\n",
      "Epoch 36/90\n",
      "10000/10000 [==============================] - 46s 5ms/step - loss: 1.1506 - accuracy: 0.5949 - val_loss: 1.3049 - val_accuracy: 0.5525\n",
      "Epoch 37/90\n",
      "10000/10000 [==============================] - 46s 5ms/step - loss: 1.1239 - accuracy: 0.6036 - val_loss: 1.2864 - val_accuracy: 0.5695\n",
      "Epoch 38/90\n",
      "10000/10000 [==============================] - 46s 5ms/step - loss: 1.1208 - accuracy: 0.6050 - val_loss: 1.3211 - val_accuracy: 0.5450\n",
      "Epoch 39/90\n",
      "10000/10000 [==============================] - 46s 5ms/step - loss: 1.1218 - accuracy: 0.6076 - val_loss: 1.3285 - val_accuracy: 0.5375\n",
      "Epoch 40/90\n",
      "10000/10000 [==============================] - 46s 5ms/step - loss: 1.1004 - accuracy: 0.6154 - val_loss: 1.2704 - val_accuracy: 0.5585\n",
      "Epoch 41/90\n",
      "10000/10000 [==============================] - 46s 5ms/step - loss: 1.0797 - accuracy: 0.6193 - val_loss: 1.3026 - val_accuracy: 0.5550\n",
      "Epoch 42/90\n",
      "10000/10000 [==============================] - 46s 5ms/step - loss: 1.0829 - accuracy: 0.6182 - val_loss: 1.2920 - val_accuracy: 0.5635\n",
      "Epoch 43/90\n",
      "10000/10000 [==============================] - 46s 5ms/step - loss: 1.0678 - accuracy: 0.6170 - val_loss: 1.2612 - val_accuracy: 0.5680\n",
      "Epoch 44/90\n",
      "10000/10000 [==============================] - 46s 5ms/step - loss: 1.0585 - accuracy: 0.6285 - val_loss: 1.2811 - val_accuracy: 0.5655\n",
      "Epoch 45/90\n",
      "10000/10000 [==============================] - 46s 5ms/step - loss: 1.0451 - accuracy: 0.6360 - val_loss: 1.2553 - val_accuracy: 0.5675\n",
      "Epoch 46/90\n",
      "10000/10000 [==============================] - 46s 5ms/step - loss: 1.0391 - accuracy: 0.6328 - val_loss: 1.2627 - val_accuracy: 0.5655\n",
      "Epoch 47/90\n",
      "10000/10000 [==============================] - 46s 5ms/step - loss: 1.0226 - accuracy: 0.6383 - val_loss: 1.2434 - val_accuracy: 0.5845\n",
      "Epoch 48/90\n",
      "10000/10000 [==============================] - 46s 5ms/step - loss: 1.0024 - accuracy: 0.6495 - val_loss: 1.2676 - val_accuracy: 0.5620\n",
      "Epoch 49/90\n",
      "10000/10000 [==============================] - 46s 5ms/step - loss: 1.0122 - accuracy: 0.6423 - val_loss: 1.2435 - val_accuracy: 0.5710\n",
      "Epoch 50/90\n",
      "10000/10000 [==============================] - 46s 5ms/step - loss: 0.9953 - accuracy: 0.6500 - val_loss: 1.2261 - val_accuracy: 0.5880\n",
      "Epoch 51/90\n",
      "10000/10000 [==============================] - 46s 5ms/step - loss: 0.9970 - accuracy: 0.6514 - val_loss: 1.2364 - val_accuracy: 0.5830\n",
      "Epoch 52/90\n",
      "10000/10000 [==============================] - 46s 5ms/step - loss: 0.9826 - accuracy: 0.6520 - val_loss: 1.2187 - val_accuracy: 0.5875\n",
      "Epoch 53/90\n",
      "10000/10000 [==============================] - 46s 5ms/step - loss: 0.9666 - accuracy: 0.6609 - val_loss: 1.2522 - val_accuracy: 0.5800\n",
      "Epoch 54/90\n",
      "10000/10000 [==============================] - 46s 5ms/step - loss: 0.9644 - accuracy: 0.6671 - val_loss: 1.2420 - val_accuracy: 0.5750\n",
      "Epoch 55/90\n",
      "10000/10000 [==============================] - 46s 5ms/step - loss: 0.9440 - accuracy: 0.6649 - val_loss: 1.2719 - val_accuracy: 0.5725\n",
      "Epoch 56/90\n",
      "10000/10000 [==============================] - 45s 5ms/step - loss: 0.9453 - accuracy: 0.6676 - val_loss: 1.2138 - val_accuracy: 0.5900\n",
      "Epoch 57/90\n",
      "10000/10000 [==============================] - 45s 5ms/step - loss: 0.9420 - accuracy: 0.6698 - val_loss: 1.2771 - val_accuracy: 0.5670\n",
      "Epoch 58/90\n",
      "10000/10000 [==============================] - 45s 5ms/step - loss: 0.9318 - accuracy: 0.6770 - val_loss: 1.2398 - val_accuracy: 0.5905\n",
      "Epoch 59/90\n",
      "10000/10000 [==============================] - 45s 5ms/step - loss: 0.9168 - accuracy: 0.6800 - val_loss: 1.2677 - val_accuracy: 0.5945\n",
      "Epoch 60/90\n",
      "10000/10000 [==============================] - 45s 5ms/step - loss: 0.9098 - accuracy: 0.6846 - val_loss: 1.2135 - val_accuracy: 0.5875\n",
      "Epoch 61/90\n",
      "10000/10000 [==============================] - 45s 5ms/step - loss: 0.9056 - accuracy: 0.6803 - val_loss: 1.2658 - val_accuracy: 0.5865\n",
      "Epoch 62/90\n",
      "10000/10000 [==============================] - 45s 5ms/step - loss: 0.9031 - accuracy: 0.6835 - val_loss: 1.2136 - val_accuracy: 0.6010\n",
      "Epoch 63/90\n",
      "10000/10000 [==============================] - 45s 5ms/step - loss: 0.8920 - accuracy: 0.6886 - val_loss: 1.2142 - val_accuracy: 0.5885\n",
      "Epoch 64/90\n",
      "10000/10000 [==============================] - 45s 5ms/step - loss: 0.8703 - accuracy: 0.6982 - val_loss: 1.3448 - val_accuracy: 0.5805\n",
      "Epoch 65/90\n",
      "10000/10000 [==============================] - 45s 5ms/step - loss: 0.8693 - accuracy: 0.6952 - val_loss: 1.2384 - val_accuracy: 0.5975\n",
      "Epoch 66/90\n",
      "10000/10000 [==============================] - 45s 5ms/step - loss: 0.8619 - accuracy: 0.6971 - val_loss: 1.2315 - val_accuracy: 0.6010\n",
      "Epoch 67/90\n",
      "10000/10000 [==============================] - 45s 5ms/step - loss: 0.8433 - accuracy: 0.7082 - val_loss: 1.2576 - val_accuracy: 0.5825\n",
      "Epoch 68/90\n",
      "10000/10000 [==============================] - 45s 5ms/step - loss: 0.8442 - accuracy: 0.7063 - val_loss: 1.2144 - val_accuracy: 0.6165\n",
      "Epoch 69/90\n",
      "10000/10000 [==============================] - 45s 5ms/step - loss: 0.8318 - accuracy: 0.7081 - val_loss: 1.2264 - val_accuracy: 0.5970\n",
      "Epoch 70/90\n",
      "10000/10000 [==============================] - 45s 5ms/step - loss: 0.8305 - accuracy: 0.7124 - val_loss: 1.2465 - val_accuracy: 0.6025\n",
      "Epoch 71/90\n",
      "10000/10000 [==============================] - 45s 5ms/step - loss: 0.8223 - accuracy: 0.7164 - val_loss: 1.2201 - val_accuracy: 0.6095\n",
      "Epoch 72/90\n",
      "10000/10000 [==============================] - 45s 5ms/step - loss: 0.8087 - accuracy: 0.7225 - val_loss: 1.2350 - val_accuracy: 0.6045\n",
      "Epoch 73/90\n",
      "10000/10000 [==============================] - 45s 5ms/step - loss: 0.7930 - accuracy: 0.7232 - val_loss: 1.2570 - val_accuracy: 0.5925\n",
      "Epoch 74/90\n",
      "10000/10000 [==============================] - 45s 5ms/step - loss: 0.8052 - accuracy: 0.7163 - val_loss: 1.2953 - val_accuracy: 0.5750\n",
      "Epoch 75/90\n",
      "10000/10000 [==============================] - 45s 5ms/step - loss: 0.7839 - accuracy: 0.7284 - val_loss: 1.2771 - val_accuracy: 0.6050\n",
      "Epoch 76/90\n",
      "10000/10000 [==============================] - 45s 5ms/step - loss: 0.7788 - accuracy: 0.7236 - val_loss: 1.2167 - val_accuracy: 0.6040\n",
      "Epoch 77/90\n",
      "10000/10000 [==============================] - 45s 5ms/step - loss: 0.7644 - accuracy: 0.7357 - val_loss: 1.2629 - val_accuracy: 0.6000\n",
      "Epoch 78/90\n",
      "10000/10000 [==============================] - 45s 5ms/step - loss: 0.7545 - accuracy: 0.7350 - val_loss: 1.2948 - val_accuracy: 0.6035\n",
      "Epoch 79/90\n",
      "10000/10000 [==============================] - 45s 5ms/step - loss: 0.7542 - accuracy: 0.7375 - val_loss: 1.3744 - val_accuracy: 0.5955\n",
      "Epoch 80/90\n",
      "10000/10000 [==============================] - 45s 5ms/step - loss: 0.7645 - accuracy: 0.7297 - val_loss: 1.2287 - val_accuracy: 0.6100\n",
      "Epoch 00080: early stopping\n"
     ]
    }
   ],
   "source": [
    "from keras.callbacks import EarlyStopping\n",
    "early_stopping = EarlyStopping(monitor='val_loss', patience=20, verbose=2)\n",
    "history = model.fit(X_train, Y_train, epochs=90, batch_size=64, validation_data= (X_test, Y_test), callbacks=[early_stopping])"
   ]
  },
  {
   "cell_type": "code",
   "execution_count": 400,
   "metadata": {
    "scrolled": false
   },
   "outputs": [
    {
     "data": {
      "image/png": "[encoded data removed]",
      "text/plain": [
       "<Figure size 864x576 with 1 Axes>"
      ]
     },
     "metadata": {
      "needs_background": "light"
     },
     "output_type": "display_data"
    },
    {
     "data": {
      "image/png": "[encoded data removed]",
      "text/plain": [
       "<Figure size 864x576 with 1 Axes>"
      ]
     },
     "metadata": {
      "needs_background": "light"
     },
     "output_type": "display_data"
    },
    {
     "name": "stdout",
     "output_type": "stream",
     "text": [
      "Training accuracy: 0.7610999941825867\n",
      "Test accuracy: 0.6100000143051147\n"
     ]
    }
   ],
   "source": [
    "plt.figure(figsize=(12,8))\n",
    "plt.plot(history.history['accuracy'])\n",
    "plt.plot(history.history['val_accuracy'])\n",
    "plt.legend(['accuracy','val_accuracy'])\n",
    "plt.show()\n",
    "\n",
    "plt.figure(figsize=(12,8))\n",
    "plt.plot(history.history['loss'])\n",
    "plt.plot(history.history['val_loss'])\n",
    "plt.legend(['loss','val_loss'])\n",
    "plt.show()\n",
    "train_loss, train_acc = model.evaluate(X_train, Y_train, verbose = 2)\n",
    "test_loss, test_acc = model.evaluate(X_test, Y_test, verbose = 2)\n",
    "print('Training accuracy:', train_acc)\n",
    "print('Test accuracy:', test_acc)"
   ]
  }
 ],
 "metadata": {
  "kernelspec": {
   "display_name": "Python 3",
   "language": "python",
   "name": "python3"
  },
  "language_info": {
   "codemirror_mode": {
    "name": "ipython",
    "version": 3
   },
   "file_extension": ".py",
   "mimetype": "text/x-python",
   "name": "python",
   "nbconvert_exporter": "python",
   "pygments_lexer": "ipython3",
   "version": "3.6.9"
  }
 },
 "nbformat": 4,
 "nbformat_minor": 2
}
